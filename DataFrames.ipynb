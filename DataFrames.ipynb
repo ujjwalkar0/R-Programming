{
 "cells": [
  {
   "cell_type": "markdown",
   "metadata": {},
   "source": [
    "# DataFrames\n",
    " \n",
    " #### Defination :- Data frames are generic data objects of R, used to store tabular data"
   ]
  },
  {
   "cell_type": "code",
   "execution_count": 26,
   "metadata": {},
   "outputs": [],
   "source": [
    "v1=c(1,2,3,5,6)"
   ]
  },
  {
   "cell_type": "code",
   "execution_count": 27,
   "metadata": {},
   "outputs": [],
   "source": [
    "v2=c(\"python\",\"c\",\"react\",\"native\",\"html\")"
   ]
  },
  {
   "cell_type": "code",
   "execution_count": 28,
   "metadata": {},
   "outputs": [],
   "source": [
    "v3=c(\"python\",\"c\",\"react\",\"native\",\"html\")"
   ]
  },
  {
   "cell_type": "code",
   "execution_count": 29,
   "metadata": {},
   "outputs": [],
   "source": [
    "v4=c(\"best\",\"good\",\"average\",\"vbbhjf\",\"fsgfds\")"
   ]
  },
  {
   "cell_type": "code",
   "execution_count": 30,
   "metadata": {},
   "outputs": [],
   "source": [
    "v5=c(\"best\",\"good\",\"average\",\"vbbhjf\",\"fsgfds\")"
   ]
  },
  {
   "cell_type": "code",
   "execution_count": 31,
   "metadata": {},
   "outputs": [],
   "source": [
    "df=data.frame(v1,v2,v3,v4,v5)"
   ]
  },
  {
   "cell_type": "code",
   "execution_count": 32,
   "metadata": {},
   "outputs": [
    {
     "data": {
      "text/html": [
       "<table>\n",
       "<thead><tr><th scope=col>v1</th><th scope=col>v2</th><th scope=col>v3</th><th scope=col>v4</th><th scope=col>v5</th></tr></thead>\n",
       "<tbody>\n",
       "\t<tr><td>1      </td><td>python </td><td>python </td><td>best   </td><td>best   </td></tr>\n",
       "\t<tr><td>2      </td><td>c      </td><td>c      </td><td>good   </td><td>good   </td></tr>\n",
       "\t<tr><td>3      </td><td>react  </td><td>react  </td><td>average</td><td>average</td></tr>\n",
       "\t<tr><td>5      </td><td>native </td><td>native </td><td>vbbhjf </td><td>vbbhjf </td></tr>\n",
       "\t<tr><td>6      </td><td>html   </td><td>html   </td><td>fsgfds </td><td>fsgfds </td></tr>\n",
       "</tbody>\n",
       "</table>\n"
      ],
      "text/latex": [
       "\\begin{tabular}{r|lllll}\n",
       " v1 & v2 & v3 & v4 & v5\\\\\n",
       "\\hline\n",
       "\t 1       & python  & python  & best    & best   \\\\\n",
       "\t 2       & c       & c       & good    & good   \\\\\n",
       "\t 3       & react   & react   & average & average\\\\\n",
       "\t 5       & native  & native  & vbbhjf  & vbbhjf \\\\\n",
       "\t 6       & html    & html    & fsgfds  & fsgfds \\\\\n",
       "\\end{tabular}\n"
      ],
      "text/markdown": [
       "\n",
       "| v1 | v2 | v3 | v4 | v5 |\n",
       "|---|---|---|---|---|\n",
       "| 1       | python  | python  | best    | best    |\n",
       "| 2       | c       | c       | good    | good    |\n",
       "| 3       | react   | react   | average | average |\n",
       "| 5       | native  | native  | vbbhjf  | vbbhjf  |\n",
       "| 6       | html    | html    | fsgfds  | fsgfds  |\n",
       "\n"
      ],
      "text/plain": [
       "  v1 v2     v3     v4      v5     \n",
       "1 1  python python best    best   \n",
       "2 2  c      c      good    good   \n",
       "3 3  react  react  average average\n",
       "4 5  native native vbbhjf  vbbhjf \n",
       "5 6  html   html   fsgfds  fsgfds "
      ]
     },
     "metadata": {},
     "output_type": "display_data"
    }
   ],
   "source": [
    "df"
   ]
  },
  {
   "cell_type": "code",
   "execution_count": 33,
   "metadata": {},
   "outputs": [],
   "source": [
    "new_df=data.frame(v1,v2,v3,v3)"
   ]
  },
  {
   "cell_type": "code",
   "execution_count": 34,
   "metadata": {},
   "outputs": [
    {
     "data": {
      "text/html": [
       "<table>\n",
       "<thead><tr><th scope=col>v1</th><th scope=col>v2</th><th scope=col>v3</th><th scope=col>v3.1</th></tr></thead>\n",
       "<tbody>\n",
       "\t<tr><td>1     </td><td>python</td><td>python</td><td>python</td></tr>\n",
       "\t<tr><td>2     </td><td>c     </td><td>c     </td><td>c     </td></tr>\n",
       "\t<tr><td>3     </td><td>react </td><td>react </td><td>react </td></tr>\n",
       "\t<tr><td>5     </td><td>native</td><td>native</td><td>native</td></tr>\n",
       "\t<tr><td>6     </td><td>html  </td><td>html  </td><td>html  </td></tr>\n",
       "</tbody>\n",
       "</table>\n"
      ],
      "text/latex": [
       "\\begin{tabular}{r|llll}\n",
       " v1 & v2 & v3 & v3.1\\\\\n",
       "\\hline\n",
       "\t 1      & python & python & python\\\\\n",
       "\t 2      & c      & c      & c     \\\\\n",
       "\t 3      & react  & react  & react \\\\\n",
       "\t 5      & native & native & native\\\\\n",
       "\t 6      & html   & html   & html  \\\\\n",
       "\\end{tabular}\n"
      ],
      "text/markdown": [
       "\n",
       "| v1 | v2 | v3 | v3.1 |\n",
       "|---|---|---|---|\n",
       "| 1      | python | python | python |\n",
       "| 2      | c      | c      | c      |\n",
       "| 3      | react  | react  | react  |\n",
       "| 5      | native | native | native |\n",
       "| 6      | html   | html   | html   |\n",
       "\n"
      ],
      "text/plain": [
       "  v1 v2     v3     v3.1  \n",
       "1 1  python python python\n",
       "2 2  c      c      c     \n",
       "3 3  react  react  react \n",
       "4 5  native native native\n",
       "5 6  html   html   html  "
      ]
     },
     "metadata": {},
     "output_type": "display_data"
    }
   ],
   "source": [
    "new_df"
   ]
  },
  {
   "cell_type": "markdown",
   "metadata": {},
   "source": [
    "# Create a dataframe using data from a file"
   ]
  },
  {
   "cell_type": "code",
   "execution_count": 35,
   "metadata": {},
   "outputs": [
    {
     "data": {
      "text/html": [
       "<table>\n",
       "<thead><tr><th scope=col>v2</th><th scope=col>v3.1</th></tr></thead>\n",
       "<tbody>\n",
       "\t<tr><td>python</td><td>python</td></tr>\n",
       "\t<tr><td>c     </td><td>c     </td></tr>\n",
       "\t<tr><td>react </td><td>react </td></tr>\n",
       "\t<tr><td>native</td><td>native</td></tr>\n",
       "\t<tr><td>html  </td><td>html  </td></tr>\n",
       "</tbody>\n",
       "</table>\n"
      ],
      "text/latex": [
       "\\begin{tabular}{r|ll}\n",
       " v2 & v3.1\\\\\n",
       "\\hline\n",
       "\t python & python\\\\\n",
       "\t c      & c     \\\\\n",
       "\t react  & react \\\\\n",
       "\t native & native\\\\\n",
       "\t html   & html  \\\\\n",
       "\\end{tabular}\n"
      ],
      "text/markdown": [
       "\n",
       "| v2 | v3.1 |\n",
       "|---|---|\n",
       "| python | python |\n",
       "| c      | c      |\n",
       "| react  | react  |\n",
       "| native | native |\n",
       "| html   | html   |\n",
       "\n"
      ],
      "text/plain": [
       "  v2     v3.1  \n",
       "1 python python\n",
       "2 c      c     \n",
       "3 react  react \n",
       "4 native native\n",
       "5 html   html  "
      ]
     },
     "metadata": {},
     "output_type": "display_data"
    }
   ],
   "source": [
    "new_df[c(2,4)]"
   ]
  },
  {
   "cell_type": "code",
   "execution_count": null,
   "metadata": {},
   "outputs": [],
   "source": []
  },
  {
   "cell_type": "markdown",
   "metadata": {},
   "source": [
    "# Accessing rows and Columns"
   ]
  },
  {
   "cell_type": "code",
   "execution_count": 92,
   "metadata": {},
   "outputs": [
    {
     "name": "stdout",
     "output_type": "stream",
     "text": [
      "  v1     v2     v3      v4      v5\n",
      "1  1 python python    best    best\n",
      "2  2      c      c    good    good\n",
      "3  3  react  react average average\n"
     ]
    }
   ],
   "source": [
    "print(df[1:3,])  "
   ]
  },
  {
   "cell_type": "code",
   "execution_count": 93,
   "metadata": {},
   "outputs": [
    {
     "name": "stdout",
     "output_type": "stream",
     "text": [
      "  v1     v2     v3\n",
      "1  1 python python\n",
      "2  2      c      c\n",
      "3  3  react  react\n",
      "4  5 native native\n",
      "5  6   html   html\n"
     ]
    }
   ],
   "source": [
    "print(df[,1:3])  "
   ]
  },
  {
   "cell_type": "code",
   "execution_count": 94,
   "metadata": {},
   "outputs": [
    {
     "name": "stdout",
     "output_type": "stream",
     "text": [
      "[1] python\n",
      "Levels: c html native python react\n"
     ]
    }
   ],
   "source": [
    "print(df[1,2])"
   ]
  },
  {
   "cell_type": "code",
   "execution_count": 95,
   "metadata": {},
   "outputs": [
    {
     "name": "stdout",
     "output_type": "stream",
     "text": [
      "[1] python\n",
      "Levels: c html native python react\n"
     ]
    }
   ],
   "source": [
    "print(df[1:1,2:2])"
   ]
  },
  {
   "cell_type": "markdown",
   "metadata": {},
   "source": [
    "\n",
    "# Subset"
   ]
  },
  {
   "cell_type": "code",
   "execution_count": 96,
   "metadata": {},
   "outputs": [],
   "source": [
    "pd2=data.frame(\"Name\"=c(\"Ujjwal\",\"Ujjwal\",\"Kar\",\"Bit\"),\n",
    "              \"Month\"=c(\"Jan\",\"Feb\",\"Mar\",\"Feb\"),\n",
    "              \"BS\"=c(140,548,456,785),\n",
    "              \"BP\"=c(90.5,77,89,45.00)\n",
    "              )"
   ]
  },
  {
   "cell_type": "code",
   "execution_count": 97,
   "metadata": {},
   "outputs": [],
   "source": [
    "pd3=subset(pd2,Name=\"Ujjwal\" | BS==140)"
   ]
  },
  {
   "cell_type": "code",
   "execution_count": 98,
   "metadata": {},
   "outputs": [
    {
     "data": {
      "text/html": [
       "<table>\n",
       "<thead><tr><th scope=col>Name</th><th scope=col>Month</th><th scope=col>BS</th><th scope=col>BP</th></tr></thead>\n",
       "<tbody>\n",
       "\t<tr><td>Ujjwal</td><td>Jan   </td><td>140   </td><td>90.5  </td></tr>\n",
       "\t<tr><td>Ujjwal</td><td>Feb   </td><td>548   </td><td>77.0  </td></tr>\n",
       "\t<tr><td>Kar   </td><td>Mar   </td><td>456   </td><td>89.0  </td></tr>\n",
       "\t<tr><td>Bit   </td><td>Feb   </td><td>785   </td><td>45.0  </td></tr>\n",
       "</tbody>\n",
       "</table>\n"
      ],
      "text/latex": [
       "\\begin{tabular}{r|llll}\n",
       " Name & Month & BS & BP\\\\\n",
       "\\hline\n",
       "\t Ujjwal & Jan    & 140    & 90.5  \\\\\n",
       "\t Ujjwal & Feb    & 548    & 77.0  \\\\\n",
       "\t Kar    & Mar    & 456    & 89.0  \\\\\n",
       "\t Bit    & Feb    & 785    & 45.0  \\\\\n",
       "\\end{tabular}\n"
      ],
      "text/markdown": [
       "\n",
       "| Name | Month | BS | BP |\n",
       "|---|---|---|---|\n",
       "| Ujjwal | Jan    | 140    | 90.5   |\n",
       "| Ujjwal | Feb    | 548    | 77.0   |\n",
       "| Kar    | Mar    | 456    | 89.0   |\n",
       "| Bit    | Feb    | 785    | 45.0   |\n",
       "\n"
      ],
      "text/plain": [
       "  Name   Month BS  BP  \n",
       "1 Ujjwal Jan   140 90.5\n",
       "2 Ujjwal Feb   548 77.0\n",
       "3 Kar    Mar   456 89.0\n",
       "4 Bit    Feb   785 45.0"
      ]
     },
     "metadata": {},
     "output_type": "display_data"
    }
   ],
   "source": [
    "pd3  # Not run properly  Or Output becomes the first line"
   ]
  },
  {
   "cell_type": "code",
   "execution_count": 99,
   "metadata": {},
   "outputs": [
    {
     "name": "stderr",
     "output_type": "stream",
     "text": [
      "Warning message in `[<-.factor`(`*tmp*`, iseq, value = \"R\"):\n",
      "“invalid factor level, NA generated”"
     ]
    }
   ],
   "source": [
    "pd2[2,2]=\"R\""
   ]
  },
  {
   "cell_type": "code",
   "execution_count": 100,
   "metadata": {},
   "outputs": [
    {
     "data": {
      "text/html": [
       "<table>\n",
       "<thead><tr><th scope=col>Name</th><th scope=col>Month</th><th scope=col>BS</th><th scope=col>BP</th></tr></thead>\n",
       "<tbody>\n",
       "\t<tr><td>Ujjwal</td><td>Jan   </td><td>140   </td><td>90.5  </td></tr>\n",
       "\t<tr><td>Ujjwal</td><td>NA    </td><td>548   </td><td>77.0  </td></tr>\n",
       "\t<tr><td>Kar   </td><td>Mar   </td><td>456   </td><td>89.0  </td></tr>\n",
       "\t<tr><td>Bit   </td><td>Feb   </td><td>785   </td><td>45.0  </td></tr>\n",
       "</tbody>\n",
       "</table>\n"
      ],
      "text/latex": [
       "\\begin{tabular}{r|llll}\n",
       " Name & Month & BS & BP\\\\\n",
       "\\hline\n",
       "\t Ujjwal & Jan    & 140    & 90.5  \\\\\n",
       "\t Ujjwal & NA     & 548    & 77.0  \\\\\n",
       "\t Kar    & Mar    & 456    & 89.0  \\\\\n",
       "\t Bit    & Feb    & 785    & 45.0  \\\\\n",
       "\\end{tabular}\n"
      ],
      "text/markdown": [
       "\n",
       "| Name | Month | BS | BP |\n",
       "|---|---|---|---|\n",
       "| Ujjwal | Jan    | 140    | 90.5   |\n",
       "| Ujjwal | NA     | 548    | 77.0   |\n",
       "| Kar    | Mar    | 456    | 89.0   |\n",
       "| Bit    | Feb    | 785    | 45.0   |\n",
       "\n"
      ],
      "text/plain": [
       "  Name   Month BS  BP  \n",
       "1 Ujjwal Jan   140 90.5\n",
       "2 Ujjwal NA    548 77.0\n",
       "3 Kar    Mar   456 89.0\n",
       "4 Bit    Feb   785 45.0"
      ]
     },
     "metadata": {},
     "output_type": "display_data"
    }
   ],
   "source": [
    "pd2  "
   ]
  },
  {
   "cell_type": "code",
   "execution_count": 101,
   "metadata": {},
   "outputs": [],
   "source": [
    "myPD=data.frame()"
   ]
  },
  {
   "cell_type": "code",
   "execution_count": 102,
   "metadata": {},
   "outputs": [
    {
     "ename": "ERROR",
     "evalue": "Error in edit(myPD): ‘edit()’ not yet supported in the Jupyter R kernel\n",
     "output_type": "error",
     "traceback": [
      "Error in edit(myPD): ‘edit()’ not yet supported in the Jupyter R kernel\nTraceback:\n",
      "1. edit(myPD)",
      "2. stop(sQuote(\"edit()\"), \" not yet supported in the Jupyter R kernel\")"
     ]
    }
   ],
   "source": [
    "myPD=edit(myPD)  # Not run in Jupyter"
   ]
  },
  {
   "cell_type": "code",
   "execution_count": 103,
   "metadata": {},
   "outputs": [
    {
     "name": "stderr",
     "output_type": "stream",
     "text": [
      "Warning message in `[<-.factor`(`*tmp*`, ri, value = 9):\n",
      "“invalid factor level, NA generated”"
     ]
    }
   ],
   "source": [
    "pd4=rbind(pd2,data.frame(Name=\"Absb\",Month=9,BS=44.5,BP=80.9659))"
   ]
  },
  {
   "cell_type": "code",
   "execution_count": 104,
   "metadata": {},
   "outputs": [
    {
     "data": {
      "text/html": [
       "<table>\n",
       "<thead><tr><th scope=col>Name</th><th scope=col>Month</th><th scope=col>BS</th><th scope=col>BP</th></tr></thead>\n",
       "<tbody>\n",
       "\t<tr><td>Ujjwal </td><td>Jan    </td><td>140.0  </td><td>90.5000</td></tr>\n",
       "\t<tr><td>Ujjwal </td><td>NA     </td><td>548.0  </td><td>77.0000</td></tr>\n",
       "\t<tr><td>Kar    </td><td>Mar    </td><td>456.0  </td><td>89.0000</td></tr>\n",
       "\t<tr><td>Bit    </td><td>Feb    </td><td>785.0  </td><td>45.0000</td></tr>\n",
       "\t<tr><td>Absb   </td><td>NA     </td><td> 44.5  </td><td>80.9659</td></tr>\n",
       "</tbody>\n",
       "</table>\n"
      ],
      "text/latex": [
       "\\begin{tabular}{r|llll}\n",
       " Name & Month & BS & BP\\\\\n",
       "\\hline\n",
       "\t Ujjwal  & Jan     & 140.0   & 90.5000\\\\\n",
       "\t Ujjwal  & NA      & 548.0   & 77.0000\\\\\n",
       "\t Kar     & Mar     & 456.0   & 89.0000\\\\\n",
       "\t Bit     & Feb     & 785.0   & 45.0000\\\\\n",
       "\t Absb    & NA      &  44.5   & 80.9659\\\\\n",
       "\\end{tabular}\n"
      ],
      "text/markdown": [
       "\n",
       "| Name | Month | BS | BP |\n",
       "|---|---|---|---|\n",
       "| Ujjwal  | Jan     | 140.0   | 90.5000 |\n",
       "| Ujjwal  | NA      | 548.0   | 77.0000 |\n",
       "| Kar     | Mar     | 456.0   | 89.0000 |\n",
       "| Bit     | Feb     | 785.0   | 45.0000 |\n",
       "| Absb    | NA      |  44.5   | 80.9659 |\n",
       "\n"
      ],
      "text/plain": [
       "  Name   Month BS    BP     \n",
       "1 Ujjwal Jan   140.0 90.5000\n",
       "2 Ujjwal NA    548.0 77.0000\n",
       "3 Kar    Mar   456.0 89.0000\n",
       "4 Bit    Feb   785.0 45.0000\n",
       "5 Absb   NA     44.5 80.9659"
      ]
     },
     "metadata": {},
     "output_type": "display_data"
    }
   ],
   "source": [
    "pd4"
   ]
  },
  {
   "cell_type": "code",
   "execution_count": 105,
   "metadata": {},
   "outputs": [],
   "source": [
    "pd5=cbind(pd4,NEW=c(10,12,18,17,15))"
   ]
  },
  {
   "cell_type": "code",
   "execution_count": 106,
   "metadata": {},
   "outputs": [
    {
     "data": {
      "text/html": [
       "<table>\n",
       "<thead><tr><th scope=col>Name</th><th scope=col>Month</th><th scope=col>BS</th><th scope=col>BP</th><th scope=col>NEW</th></tr></thead>\n",
       "<tbody>\n",
       "\t<tr><td>Ujjwal </td><td>Jan    </td><td>140.0  </td><td>90.5000</td><td>10     </td></tr>\n",
       "\t<tr><td>Ujjwal </td><td>NA     </td><td>548.0  </td><td>77.0000</td><td>12     </td></tr>\n",
       "\t<tr><td>Kar    </td><td>Mar    </td><td>456.0  </td><td>89.0000</td><td>18     </td></tr>\n",
       "\t<tr><td>Bit    </td><td>Feb    </td><td>785.0  </td><td>45.0000</td><td>17     </td></tr>\n",
       "\t<tr><td>Absb   </td><td>NA     </td><td> 44.5  </td><td>80.9659</td><td>15     </td></tr>\n",
       "</tbody>\n",
       "</table>\n"
      ],
      "text/latex": [
       "\\begin{tabular}{r|lllll}\n",
       " Name & Month & BS & BP & NEW\\\\\n",
       "\\hline\n",
       "\t Ujjwal  & Jan     & 140.0   & 90.5000 & 10     \\\\\n",
       "\t Ujjwal  & NA      & 548.0   & 77.0000 & 12     \\\\\n",
       "\t Kar     & Mar     & 456.0   & 89.0000 & 18     \\\\\n",
       "\t Bit     & Feb     & 785.0   & 45.0000 & 17     \\\\\n",
       "\t Absb    & NA      &  44.5   & 80.9659 & 15     \\\\\n",
       "\\end{tabular}\n"
      ],
      "text/markdown": [
       "\n",
       "| Name | Month | BS | BP | NEW |\n",
       "|---|---|---|---|---|\n",
       "| Ujjwal  | Jan     | 140.0   | 90.5000 | 10      |\n",
       "| Ujjwal  | NA      | 548.0   | 77.0000 | 12      |\n",
       "| Kar     | Mar     | 456.0   | 89.0000 | 18      |\n",
       "| Bit     | Feb     | 785.0   | 45.0000 | 17      |\n",
       "| Absb    | NA      |  44.5   | 80.9659 | 15      |\n",
       "\n"
      ],
      "text/plain": [
       "  Name   Month BS    BP      NEW\n",
       "1 Ujjwal Jan   140.0 90.5000 10 \n",
       "2 Ujjwal NA    548.0 77.0000 12 \n",
       "3 Kar    Mar   456.0 89.0000 18 \n",
       "4 Bit    Feb   785.0 45.0000 17 \n",
       "5 Absb   NA     44.5 80.9659 15 "
      ]
     },
     "metadata": {},
     "output_type": "display_data"
    }
   ],
   "source": [
    "pd5"
   ]
  },
  {
   "cell_type": "code",
   "execution_count": 107,
   "metadata": {},
   "outputs": [],
   "source": [
    "pd6=pd5[-2,-3]  # Delete"
   ]
  },
  {
   "cell_type": "code",
   "execution_count": 108,
   "metadata": {},
   "outputs": [
    {
     "data": {
      "text/html": [
       "<table>\n",
       "<thead><tr><th></th><th scope=col>Name</th><th scope=col>Month</th><th scope=col>BP</th><th scope=col>NEW</th></tr></thead>\n",
       "<tbody>\n",
       "\t<tr><th scope=row>1</th><td>Ujjwal </td><td>Jan    </td><td>90.5000</td><td>10     </td></tr>\n",
       "\t<tr><th scope=row>3</th><td>Kar    </td><td>Mar    </td><td>89.0000</td><td>18     </td></tr>\n",
       "\t<tr><th scope=row>4</th><td>Bit    </td><td>Feb    </td><td>45.0000</td><td>17     </td></tr>\n",
       "\t<tr><th scope=row>5</th><td>Absb   </td><td>NA     </td><td>80.9659</td><td>15     </td></tr>\n",
       "</tbody>\n",
       "</table>\n"
      ],
      "text/latex": [
       "\\begin{tabular}{r|llll}\n",
       "  & Name & Month & BP & NEW\\\\\n",
       "\\hline\n",
       "\t1 & Ujjwal  & Jan     & 90.5000 & 10     \\\\\n",
       "\t3 & Kar     & Mar     & 89.0000 & 18     \\\\\n",
       "\t4 & Bit     & Feb     & 45.0000 & 17     \\\\\n",
       "\t5 & Absb    & NA      & 80.9659 & 15     \\\\\n",
       "\\end{tabular}\n"
      ],
      "text/markdown": [
       "\n",
       "| <!--/--> | Name | Month | BP | NEW |\n",
       "|---|---|---|---|---|\n",
       "| 1 | Ujjwal  | Jan     | 90.5000 | 10      |\n",
       "| 3 | Kar     | Mar     | 89.0000 | 18      |\n",
       "| 4 | Bit     | Feb     | 45.0000 | 17      |\n",
       "| 5 | Absb    | NA      | 80.9659 | 15      |\n",
       "\n"
      ],
      "text/plain": [
       "  Name   Month BP      NEW\n",
       "1 Ujjwal Jan   90.5000 10 \n",
       "3 Kar    Mar   89.0000 18 \n",
       "4 Bit    Feb   45.0000 17 \n",
       "5 Absb   NA    80.9659 15 "
      ]
     },
     "metadata": {},
     "output_type": "display_data"
    }
   ],
   "source": [
    "pd6"
   ]
  },
  {
   "cell_type": "code",
   "execution_count": 109,
   "metadata": {},
   "outputs": [],
   "source": [
    "pd7=pd6[,!names(pd6)%in%c(\"NEW\")] "
   ]
  },
  {
   "cell_type": "code",
   "execution_count": 110,
   "metadata": {},
   "outputs": [
    {
     "data": {
      "text/html": [
       "<table>\n",
       "<thead><tr><th></th><th scope=col>Name</th><th scope=col>Month</th><th scope=col>BP</th></tr></thead>\n",
       "<tbody>\n",
       "\t<tr><th scope=row>1</th><td>Ujjwal </td><td>Jan    </td><td>90.5000</td></tr>\n",
       "\t<tr><th scope=row>3</th><td>Kar    </td><td>Mar    </td><td>89.0000</td></tr>\n",
       "\t<tr><th scope=row>4</th><td>Bit    </td><td>Feb    </td><td>45.0000</td></tr>\n",
       "\t<tr><th scope=row>5</th><td>Absb   </td><td>NA     </td><td>80.9659</td></tr>\n",
       "</tbody>\n",
       "</table>\n"
      ],
      "text/latex": [
       "\\begin{tabular}{r|lll}\n",
       "  & Name & Month & BP\\\\\n",
       "\\hline\n",
       "\t1 & Ujjwal  & Jan     & 90.5000\\\\\n",
       "\t3 & Kar     & Mar     & 89.0000\\\\\n",
       "\t4 & Bit     & Feb     & 45.0000\\\\\n",
       "\t5 & Absb    & NA      & 80.9659\\\\\n",
       "\\end{tabular}\n"
      ],
      "text/markdown": [
       "\n",
       "| <!--/--> | Name | Month | BP |\n",
       "|---|---|---|---|\n",
       "| 1 | Ujjwal  | Jan     | 90.5000 |\n",
       "| 3 | Kar     | Mar     | 89.0000 |\n",
       "| 4 | Bit     | Feb     | 45.0000 |\n",
       "| 5 | Absb    | NA      | 80.9659 |\n",
       "\n"
      ],
      "text/plain": [
       "  Name   Month BP     \n",
       "1 Ujjwal Jan   90.5000\n",
       "3 Kar    Mar   89.0000\n",
       "4 Bit    Feb   45.0000\n",
       "5 Absb   NA    80.9659"
      ]
     },
     "metadata": {},
     "output_type": "display_data"
    }
   ],
   "source": [
    "pd7"
   ]
  },
  {
   "cell_type": "code",
   "execution_count": 111,
   "metadata": {},
   "outputs": [
    {
     "name": "stderr",
     "output_type": "stream",
     "text": [
      "Warning message in `[<-.factor`(`*tmp*`, iseq, value = \"jhgcghchgv\"):\n",
      "“invalid factor level, NA generated”"
     ]
    }
   ],
   "source": [
    "pd7[1,1]=\"jhgcghchgv\""
   ]
  },
  {
   "cell_type": "code",
   "execution_count": 112,
   "metadata": {},
   "outputs": [
    {
     "data": {
      "text/html": [
       "<table>\n",
       "<thead><tr><th></th><th scope=col>Name</th><th scope=col>Month</th><th scope=col>BP</th></tr></thead>\n",
       "<tbody>\n",
       "\t<tr><th scope=row>1</th><td>NA     </td><td>Jan    </td><td>90.5000</td></tr>\n",
       "\t<tr><th scope=row>3</th><td>Kar    </td><td>Mar    </td><td>89.0000</td></tr>\n",
       "\t<tr><th scope=row>4</th><td>Bit    </td><td>Feb    </td><td>45.0000</td></tr>\n",
       "\t<tr><th scope=row>5</th><td>Absb   </td><td>NA     </td><td>80.9659</td></tr>\n",
       "</tbody>\n",
       "</table>\n"
      ],
      "text/latex": [
       "\\begin{tabular}{r|lll}\n",
       "  & Name & Month & BP\\\\\n",
       "\\hline\n",
       "\t1 & NA      & Jan     & 90.5000\\\\\n",
       "\t3 & Kar     & Mar     & 89.0000\\\\\n",
       "\t4 & Bit     & Feb     & 45.0000\\\\\n",
       "\t5 & Absb    & NA      & 80.9659\\\\\n",
       "\\end{tabular}\n"
      ],
      "text/markdown": [
       "\n",
       "| <!--/--> | Name | Month | BP |\n",
       "|---|---|---|---|\n",
       "| 1 | NA      | Jan     | 90.5000 |\n",
       "| 3 | Kar     | Mar     | 89.0000 |\n",
       "| 4 | Bit     | Feb     | 45.0000 |\n",
       "| 5 | Absb    | NA      | 80.9659 |\n",
       "\n"
      ],
      "text/plain": [
       "  Name Month BP     \n",
       "1 NA   Jan   90.5000\n",
       "3 Kar  Mar   89.0000\n",
       "4 Bit  Feb   45.0000\n",
       "5 Absb NA    80.9659"
      ]
     },
     "metadata": {},
     "output_type": "display_data"
    }
   ],
   "source": [
    "pd7"
   ]
  },
  {
   "cell_type": "code",
   "execution_count": 113,
   "metadata": {},
   "outputs": [],
   "source": [
    "pd7[1,3]=88"
   ]
  },
  {
   "cell_type": "code",
   "execution_count": 114,
   "metadata": {},
   "outputs": [
    {
     "data": {
      "text/html": [
       "<table>\n",
       "<thead><tr><th></th><th scope=col>Name</th><th scope=col>Month</th><th scope=col>BP</th></tr></thead>\n",
       "<tbody>\n",
       "\t<tr><th scope=row>1</th><td>NA     </td><td>Jan    </td><td>88.0000</td></tr>\n",
       "\t<tr><th scope=row>3</th><td>Kar    </td><td>Mar    </td><td>89.0000</td></tr>\n",
       "\t<tr><th scope=row>4</th><td>Bit    </td><td>Feb    </td><td>45.0000</td></tr>\n",
       "\t<tr><th scope=row>5</th><td>Absb   </td><td>NA     </td><td>80.9659</td></tr>\n",
       "</tbody>\n",
       "</table>\n"
      ],
      "text/latex": [
       "\\begin{tabular}{r|lll}\n",
       "  & Name & Month & BP\\\\\n",
       "\\hline\n",
       "\t1 & NA      & Jan     & 88.0000\\\\\n",
       "\t3 & Kar     & Mar     & 89.0000\\\\\n",
       "\t4 & Bit     & Feb     & 45.0000\\\\\n",
       "\t5 & Absb    & NA      & 80.9659\\\\\n",
       "\\end{tabular}\n"
      ],
      "text/markdown": [
       "\n",
       "| <!--/--> | Name | Month | BP |\n",
       "|---|---|---|---|\n",
       "| 1 | NA      | Jan     | 88.0000 |\n",
       "| 3 | Kar     | Mar     | 89.0000 |\n",
       "| 4 | Bit     | Feb     | 45.0000 |\n",
       "| 5 | Absb    | NA      | 80.9659 |\n",
       "\n"
      ],
      "text/plain": [
       "  Name Month BP     \n",
       "1 NA   Jan   88.0000\n",
       "3 Kar  Mar   89.0000\n",
       "4 Bit  Feb   45.0000\n",
       "5 Absb NA    80.9659"
      ]
     },
     "metadata": {},
     "output_type": "display_data"
    }
   ],
   "source": [
    "pd7"
   ]
  },
  {
   "cell_type": "code",
   "execution_count": 115,
   "metadata": {},
   "outputs": [],
   "source": [
    "library(reshape2)"
   ]
  },
  {
   "cell_type": "code",
   "execution_count": 116,
   "metadata": {},
   "outputs": [],
   "source": [
    "df=melt(pd2,id.vars=c(\"Name\",\"Month\"),measure.vars=c(\"BS\",\"BP\"))"
   ]
  },
  {
   "cell_type": "code",
   "execution_count": 117,
   "metadata": {},
   "outputs": [
    {
     "data": {
      "text/html": [
       "<table>\n",
       "<thead><tr><th scope=col>Name</th><th scope=col>Month</th><th scope=col>variable</th><th scope=col>value</th></tr></thead>\n",
       "<tbody>\n",
       "\t<tr><td>Ujjwal</td><td>Jan   </td><td>BS    </td><td>140.0 </td></tr>\n",
       "\t<tr><td>Ujjwal</td><td>NA    </td><td>BS    </td><td>548.0 </td></tr>\n",
       "\t<tr><td>Kar   </td><td>Mar   </td><td>BS    </td><td>456.0 </td></tr>\n",
       "\t<tr><td>Bit   </td><td>Feb   </td><td>BS    </td><td>785.0 </td></tr>\n",
       "\t<tr><td>Ujjwal</td><td>Jan   </td><td>BP    </td><td> 90.5 </td></tr>\n",
       "\t<tr><td>Ujjwal</td><td>NA    </td><td>BP    </td><td> 77.0 </td></tr>\n",
       "\t<tr><td>Kar   </td><td>Mar   </td><td>BP    </td><td> 89.0 </td></tr>\n",
       "\t<tr><td>Bit   </td><td>Feb   </td><td>BP    </td><td> 45.0 </td></tr>\n",
       "</tbody>\n",
       "</table>\n"
      ],
      "text/latex": [
       "\\begin{tabular}{r|llll}\n",
       " Name & Month & variable & value\\\\\n",
       "\\hline\n",
       "\t Ujjwal & Jan    & BS     & 140.0 \\\\\n",
       "\t Ujjwal & NA     & BS     & 548.0 \\\\\n",
       "\t Kar    & Mar    & BS     & 456.0 \\\\\n",
       "\t Bit    & Feb    & BS     & 785.0 \\\\\n",
       "\t Ujjwal & Jan    & BP     &  90.5 \\\\\n",
       "\t Ujjwal & NA     & BP     &  77.0 \\\\\n",
       "\t Kar    & Mar    & BP     &  89.0 \\\\\n",
       "\t Bit    & Feb    & BP     &  45.0 \\\\\n",
       "\\end{tabular}\n"
      ],
      "text/markdown": [
       "\n",
       "| Name | Month | variable | value |\n",
       "|---|---|---|---|\n",
       "| Ujjwal | Jan    | BS     | 140.0  |\n",
       "| Ujjwal | NA     | BS     | 548.0  |\n",
       "| Kar    | Mar    | BS     | 456.0  |\n",
       "| Bit    | Feb    | BS     | 785.0  |\n",
       "| Ujjwal | Jan    | BP     |  90.5  |\n",
       "| Ujjwal | NA     | BP     |  77.0  |\n",
       "| Kar    | Mar    | BP     |  89.0  |\n",
       "| Bit    | Feb    | BP     |  45.0  |\n",
       "\n"
      ],
      "text/plain": [
       "  Name   Month variable value\n",
       "1 Ujjwal Jan   BS       140.0\n",
       "2 Ujjwal NA    BS       548.0\n",
       "3 Kar    Mar   BS       456.0\n",
       "4 Bit    Feb   BS       785.0\n",
       "5 Ujjwal Jan   BP        90.5\n",
       "6 Ujjwal NA    BP        77.0\n",
       "7 Kar    Mar   BP        89.0\n",
       "8 Bit    Feb   BP        45.0"
      ]
     },
     "metadata": {},
     "output_type": "display_data"
    }
   ],
   "source": [
    "df"
   ]
  },
  {
   "cell_type": "code",
   "execution_count": 118,
   "metadata": {},
   "outputs": [
    {
     "name": "stderr",
     "output_type": "stream",
     "text": [
      "Warning message:\n",
      "“attributes are not identical across measure variables; they will be dropped”"
     ]
    }
   ],
   "source": [
    "df2=melt(pd2,id.vars=c(\"Name\"),measure.vars=c(\"Month\",\"BS\",\"BP\"))"
   ]
  },
  {
   "cell_type": "code",
   "execution_count": 119,
   "metadata": {},
   "outputs": [
    {
     "data": {
      "text/html": [
       "<table>\n",
       "<thead><tr><th scope=col>Name</th><th scope=col>variable</th><th scope=col>value</th></tr></thead>\n",
       "<tbody>\n",
       "\t<tr><td>Ujjwal</td><td>Month </td><td>Jan   </td></tr>\n",
       "\t<tr><td>Ujjwal</td><td>Month </td><td>NA    </td></tr>\n",
       "\t<tr><td>Kar   </td><td>Month </td><td>Mar   </td></tr>\n",
       "\t<tr><td>Bit   </td><td>Month </td><td>Feb   </td></tr>\n",
       "\t<tr><td>Ujjwal</td><td>BS    </td><td>140   </td></tr>\n",
       "\t<tr><td>Ujjwal</td><td>BS    </td><td>548   </td></tr>\n",
       "\t<tr><td>Kar   </td><td>BS    </td><td>456   </td></tr>\n",
       "\t<tr><td>Bit   </td><td>BS    </td><td>785   </td></tr>\n",
       "\t<tr><td>Ujjwal</td><td>BP    </td><td>90.5  </td></tr>\n",
       "\t<tr><td>Ujjwal</td><td>BP    </td><td>77    </td></tr>\n",
       "\t<tr><td>Kar   </td><td>BP    </td><td>89    </td></tr>\n",
       "\t<tr><td>Bit   </td><td>BP    </td><td>45    </td></tr>\n",
       "</tbody>\n",
       "</table>\n"
      ],
      "text/latex": [
       "\\begin{tabular}{r|lll}\n",
       " Name & variable & value\\\\\n",
       "\\hline\n",
       "\t Ujjwal & Month  & Jan   \\\\\n",
       "\t Ujjwal & Month  & NA    \\\\\n",
       "\t Kar    & Month  & Mar   \\\\\n",
       "\t Bit    & Month  & Feb   \\\\\n",
       "\t Ujjwal & BS     & 140   \\\\\n",
       "\t Ujjwal & BS     & 548   \\\\\n",
       "\t Kar    & BS     & 456   \\\\\n",
       "\t Bit    & BS     & 785   \\\\\n",
       "\t Ujjwal & BP     & 90.5  \\\\\n",
       "\t Ujjwal & BP     & 77    \\\\\n",
       "\t Kar    & BP     & 89    \\\\\n",
       "\t Bit    & BP     & 45    \\\\\n",
       "\\end{tabular}\n"
      ],
      "text/markdown": [
       "\n",
       "| Name | variable | value |\n",
       "|---|---|---|\n",
       "| Ujjwal | Month  | Jan    |\n",
       "| Ujjwal | Month  | NA     |\n",
       "| Kar    | Month  | Mar    |\n",
       "| Bit    | Month  | Feb    |\n",
       "| Ujjwal | BS     | 140    |\n",
       "| Ujjwal | BS     | 548    |\n",
       "| Kar    | BS     | 456    |\n",
       "| Bit    | BS     | 785    |\n",
       "| Ujjwal | BP     | 90.5   |\n",
       "| Ujjwal | BP     | 77     |\n",
       "| Kar    | BP     | 89     |\n",
       "| Bit    | BP     | 45     |\n",
       "\n"
      ],
      "text/plain": [
       "   Name   variable value\n",
       "1  Ujjwal Month    Jan  \n",
       "2  Ujjwal Month    NA   \n",
       "3  Kar    Month    Mar  \n",
       "4  Bit    Month    Feb  \n",
       "5  Ujjwal BS       140  \n",
       "6  Ujjwal BS       548  \n",
       "7  Kar    BS       456  \n",
       "8  Bit    BS       785  \n",
       "9  Ujjwal BP       90.5 \n",
       "10 Ujjwal BP       77   \n",
       "11 Kar    BP       89   \n",
       "12 Bit    BP       45   "
      ]
     },
     "metadata": {},
     "output_type": "display_data"
    }
   ],
   "source": [
    "df2"
   ]
  },
  {
   "cell_type": "code",
   "execution_count": 120,
   "metadata": {},
   "outputs": [
    {
     "data": {
      "text/html": [
       "<table>\n",
       "<thead><tr><th scope=col>Name</th><th scope=col>Month</th><th scope=col>BS</th><th scope=col>BP</th><th scope=col>NEW</th></tr></thead>\n",
       "<tbody>\n",
       "\t<tr><td>Ujjwal </td><td>Jan    </td><td>140.0  </td><td>90.5000</td><td>10     </td></tr>\n",
       "\t<tr><td>Ujjwal </td><td>NA     </td><td>548.0  </td><td>77.0000</td><td>12     </td></tr>\n",
       "\t<tr><td>Kar    </td><td>Mar    </td><td>456.0  </td><td>89.0000</td><td>18     </td></tr>\n",
       "\t<tr><td>Bit    </td><td>Feb    </td><td>785.0  </td><td>45.0000</td><td>17     </td></tr>\n",
       "\t<tr><td>Absb   </td><td>NA     </td><td> 44.5  </td><td>80.9659</td><td>15     </td></tr>\n",
       "</tbody>\n",
       "</table>\n"
      ],
      "text/latex": [
       "\\begin{tabular}{r|lllll}\n",
       " Name & Month & BS & BP & NEW\\\\\n",
       "\\hline\n",
       "\t Ujjwal  & Jan     & 140.0   & 90.5000 & 10     \\\\\n",
       "\t Ujjwal  & NA      & 548.0   & 77.0000 & 12     \\\\\n",
       "\t Kar     & Mar     & 456.0   & 89.0000 & 18     \\\\\n",
       "\t Bit     & Feb     & 785.0   & 45.0000 & 17     \\\\\n",
       "\t Absb    & NA      &  44.5   & 80.9659 & 15     \\\\\n",
       "\\end{tabular}\n"
      ],
      "text/markdown": [
       "\n",
       "| Name | Month | BS | BP | NEW |\n",
       "|---|---|---|---|---|\n",
       "| Ujjwal  | Jan     | 140.0   | 90.5000 | 10      |\n",
       "| Ujjwal  | NA      | 548.0   | 77.0000 | 12      |\n",
       "| Kar     | Mar     | 456.0   | 89.0000 | 18      |\n",
       "| Bit     | Feb     | 785.0   | 45.0000 | 17      |\n",
       "| Absb    | NA      |  44.5   | 80.9659 | 15      |\n",
       "\n"
      ],
      "text/plain": [
       "  Name   Month BS    BP      NEW\n",
       "1 Ujjwal Jan   140.0 90.5000 10 \n",
       "2 Ujjwal NA    548.0 77.0000 12 \n",
       "3 Kar    Mar   456.0 89.0000 18 \n",
       "4 Bit    Feb   785.0 45.0000 17 \n",
       "5 Absb   NA     44.5 80.9659 15 "
      ]
     },
     "metadata": {},
     "output_type": "display_data"
    }
   ],
   "source": [
    "pd5"
   ]
  },
  {
   "cell_type": "code",
   "execution_count": 121,
   "metadata": {},
   "outputs": [
    {
     "data": {
      "text/html": [
       "<table>\n",
       "<thead><tr><th scope=col>Month</th><th scope=col>BP</th></tr></thead>\n",
       "<tbody>\n",
       "\t<tr><td>Jan    </td><td>90.5000</td></tr>\n",
       "\t<tr><td>NA     </td><td>77.0000</td></tr>\n",
       "\t<tr><td>Mar    </td><td>89.0000</td></tr>\n",
       "\t<tr><td>Feb    </td><td>45.0000</td></tr>\n",
       "\t<tr><td>NA     </td><td>80.9659</td></tr>\n",
       "</tbody>\n",
       "</table>\n"
      ],
      "text/latex": [
       "\\begin{tabular}{r|ll}\n",
       " Month & BP\\\\\n",
       "\\hline\n",
       "\t Jan     & 90.5000\\\\\n",
       "\t NA      & 77.0000\\\\\n",
       "\t Mar     & 89.0000\\\\\n",
       "\t Feb     & 45.0000\\\\\n",
       "\t NA      & 80.9659\\\\\n",
       "\\end{tabular}\n"
      ],
      "text/markdown": [
       "\n",
       "| Month | BP |\n",
       "|---|---|\n",
       "| Jan     | 90.5000 |\n",
       "| NA      | 77.0000 |\n",
       "| Mar     | 89.0000 |\n",
       "| Feb     | 45.0000 |\n",
       "| NA      | 80.9659 |\n",
       "\n"
      ],
      "text/plain": [
       "  Month BP     \n",
       "1 Jan   90.5000\n",
       "2 NA    77.0000\n",
       "3 Mar   89.0000\n",
       "4 Feb   45.0000\n",
       "5 NA    80.9659"
      ]
     },
     "metadata": {},
     "output_type": "display_data"
    }
   ],
   "source": [
    "pd5[,c(2,4)]"
   ]
  },
  {
   "cell_type": "code",
   "execution_count": 122,
   "metadata": {},
   "outputs": [],
   "source": [
    "DF2=dcast(df,variable+Month ~ Name,value.var=\"value\")"
   ]
  },
  {
   "cell_type": "code",
   "execution_count": 123,
   "metadata": {},
   "outputs": [
    {
     "data": {
      "text/html": [
       "<table>\n",
       "<thead><tr><th scope=col>variable</th><th scope=col>Month</th><th scope=col>Bit</th><th scope=col>Kar</th><th scope=col>Ujjwal</th></tr></thead>\n",
       "<tbody>\n",
       "\t<tr><td>BS   </td><td>Feb  </td><td>785  </td><td> NA  </td><td>   NA</td></tr>\n",
       "\t<tr><td>BS   </td><td>Jan  </td><td> NA  </td><td> NA  </td><td>140.0</td></tr>\n",
       "\t<tr><td>BS   </td><td>Mar  </td><td> NA  </td><td>456  </td><td>   NA</td></tr>\n",
       "\t<tr><td>BS   </td><td>NA   </td><td> NA  </td><td> NA  </td><td>548.0</td></tr>\n",
       "\t<tr><td>BP   </td><td>Feb  </td><td> 45  </td><td> NA  </td><td>   NA</td></tr>\n",
       "\t<tr><td>BP   </td><td>Jan  </td><td> NA  </td><td> NA  </td><td> 90.5</td></tr>\n",
       "\t<tr><td>BP   </td><td>Mar  </td><td> NA  </td><td> 89  </td><td>   NA</td></tr>\n",
       "\t<tr><td>BP   </td><td>NA   </td><td> NA  </td><td> NA  </td><td> 77.0</td></tr>\n",
       "</tbody>\n",
       "</table>\n"
      ],
      "text/latex": [
       "\\begin{tabular}{r|lllll}\n",
       " variable & Month & Bit & Kar & Ujjwal\\\\\n",
       "\\hline\n",
       "\t BS    & Feb   & 785   &  NA   &    NA\\\\\n",
       "\t BS    & Jan   &  NA   &  NA   & 140.0\\\\\n",
       "\t BS    & Mar   &  NA   & 456   &    NA\\\\\n",
       "\t BS    & NA    &  NA   &  NA   & 548.0\\\\\n",
       "\t BP    & Feb   &  45   &  NA   &    NA\\\\\n",
       "\t BP    & Jan   &  NA   &  NA   &  90.5\\\\\n",
       "\t BP    & Mar   &  NA   &  89   &    NA\\\\\n",
       "\t BP    & NA    &  NA   &  NA   &  77.0\\\\\n",
       "\\end{tabular}\n"
      ],
      "text/markdown": [
       "\n",
       "| variable | Month | Bit | Kar | Ujjwal |\n",
       "|---|---|---|---|---|\n",
       "| BS    | Feb   | 785   |  NA   |    NA |\n",
       "| BS    | Jan   |  NA   |  NA   | 140.0 |\n",
       "| BS    | Mar   |  NA   | 456   |    NA |\n",
       "| BS    | NA    |  NA   |  NA   | 548.0 |\n",
       "| BP    | Feb   |  45   |  NA   |    NA |\n",
       "| BP    | Jan   |  NA   |  NA   |  90.5 |\n",
       "| BP    | Mar   |  NA   |  89   |    NA |\n",
       "| BP    | NA    |  NA   |  NA   |  77.0 |\n",
       "\n"
      ],
      "text/plain": [
       "  variable Month Bit Kar Ujjwal\n",
       "1 BS       Feb   785  NA    NA \n",
       "2 BS       Jan    NA  NA 140.0 \n",
       "3 BS       Mar    NA 456    NA \n",
       "4 BS       NA     NA  NA 548.0 \n",
       "5 BP       Feb    45  NA    NA \n",
       "6 BP       Jan    NA  NA  90.5 \n",
       "7 BP       Mar    NA  89    NA \n",
       "8 BP       NA     NA  NA  77.0 "
      ]
     },
     "metadata": {},
     "output_type": "display_data"
    }
   ],
   "source": [
    "DF2"
   ]
  },
  {
   "cell_type": "code",
   "execution_count": null,
   "metadata": {},
   "outputs": [],
   "source": []
  },
  {
   "cell_type": "code",
   "execution_count": null,
   "metadata": {},
   "outputs": [],
   "source": []
  },
  {
   "cell_type": "code",
   "execution_count": 124,
   "metadata": {},
   "outputs": [
    {
     "data": {
      "text/html": [
       "FALSE"
      ],
      "text/latex": [
       "FALSE"
      ],
      "text/markdown": [
       "FALSE"
      ],
      "text/plain": [
       "[1] FALSE"
      ]
     },
     "metadata": {},
     "output_type": "display_data"
    }
   ],
   "source": [
    "2>3"
   ]
  },
  {
   "cell_type": "code",
   "execution_count": 125,
   "metadata": {},
   "outputs": [
    {
     "data": {
      "text/html": [
       "TRUE"
      ],
      "text/latex": [
       "TRUE"
      ],
      "text/markdown": [
       "TRUE"
      ],
      "text/plain": [
       "[1] TRUE"
      ]
     },
     "metadata": {},
     "output_type": "display_data"
    }
   ],
   "source": [
    "2<3"
   ]
  },
  {
   "cell_type": "code",
   "execution_count": 126,
   "metadata": {},
   "outputs": [
    {
     "data": {
      "text/html": [
       "TRUE"
      ],
      "text/latex": [
       "TRUE"
      ],
      "text/markdown": [
       "TRUE"
      ],
      "text/plain": [
       "[1] TRUE"
      ]
     },
     "metadata": {},
     "output_type": "display_data"
    }
   ],
   "source": [
    "5>=5"
   ]
  },
  {
   "cell_type": "code",
   "execution_count": 127,
   "metadata": {},
   "outputs": [
    {
     "data": {
      "text/html": [
       "FALSE"
      ],
      "text/latex": [
       "FALSE"
      ],
      "text/markdown": [
       "FALSE"
      ],
      "text/plain": [
       "[1] FALSE"
      ]
     },
     "metadata": {},
     "output_type": "display_data"
    }
   ],
   "source": [
    "2==3"
   ]
  },
  {
   "cell_type": "code",
   "execution_count": 128,
   "metadata": {},
   "outputs": [
    {
     "data": {
      "text/html": [
       "TRUE"
      ],
      "text/latex": [
       "TRUE"
      ],
      "text/markdown": [
       "TRUE"
      ],
      "text/plain": [
       "[1] TRUE"
      ]
     },
     "metadata": {},
     "output_type": "display_data"
    }
   ],
   "source": [
    "2!=3"
   ]
  },
  {
   "cell_type": "markdown",
   "metadata": {},
   "source": [
    "# Matrix"
   ]
  },
  {
   "cell_type": "code",
   "execution_count": 129,
   "metadata": {},
   "outputs": [
    {
     "data": {
      "text/html": [
       "<table>\n",
       "<tbody>\n",
       "\t<tr><td>NA</td></tr>\n",
       "</tbody>\n",
       "</table>\n"
      ],
      "text/latex": [
       "\\begin{tabular}{l}\n",
       "\t NA\\\\\n",
       "\\end{tabular}\n"
      ],
      "text/markdown": [
       "\n",
       "| NA |\n",
       "\n"
      ],
      "text/plain": [
       "     [,1]\n",
       "[1,] NA  "
      ]
     },
     "metadata": {},
     "output_type": "display_data"
    }
   ],
   "source": [
    "A=matrix()\n",
    "A"
   ]
  },
  {
   "cell_type": "code",
   "execution_count": 130,
   "metadata": {},
   "outputs": [
    {
     "data": {
      "text/html": [
       "<table>\n",
       "<tbody>\n",
       "\t<tr><td>1</td></tr>\n",
       "\t<tr><td>2</td></tr>\n",
       "\t<tr><td>3</td></tr>\n",
       "\t<tr><td>4</td></tr>\n",
       "\t<tr><td>5</td></tr>\n",
       "\t<tr><td>6</td></tr>\n",
       "\t<tr><td>7</td></tr>\n",
       "\t<tr><td>8</td></tr>\n",
       "\t<tr><td>9</td></tr>\n",
       "</tbody>\n",
       "</table>\n"
      ],
      "text/latex": [
       "\\begin{tabular}{l}\n",
       "\t 1\\\\\n",
       "\t 2\\\\\n",
       "\t 3\\\\\n",
       "\t 4\\\\\n",
       "\t 5\\\\\n",
       "\t 6\\\\\n",
       "\t 7\\\\\n",
       "\t 8\\\\\n",
       "\t 9\\\\\n",
       "\\end{tabular}\n"
      ],
      "text/markdown": [
       "\n",
       "| 1 |\n",
       "| 2 |\n",
       "| 3 |\n",
       "| 4 |\n",
       "| 5 |\n",
       "| 6 |\n",
       "| 7 |\n",
       "| 8 |\n",
       "| 9 |\n",
       "\n"
      ],
      "text/plain": [
       "      [,1]\n",
       " [1,] 1   \n",
       " [2,] 2   \n",
       " [3,] 3   \n",
       " [4,] 4   \n",
       " [5,] 5   \n",
       " [6,] 6   \n",
       " [7,] 7   \n",
       " [8,] 8   \n",
       " [9,] 9   "
      ]
     },
     "metadata": {},
     "output_type": "display_data"
    }
   ],
   "source": [
    "A=matrix(c(1,2,3,4,5,6,7,8,9))\n",
    "A"
   ]
  },
  {
   "cell_type": "code",
   "execution_count": 131,
   "metadata": {},
   "outputs": [
    {
     "data": {
      "text/html": [
       "<table>\n",
       "<tbody>\n",
       "\t<tr><td>1</td><td>4</td><td>7</td></tr>\n",
       "\t<tr><td>2</td><td>5</td><td>8</td></tr>\n",
       "\t<tr><td>3</td><td>6</td><td>9</td></tr>\n",
       "</tbody>\n",
       "</table>\n"
      ],
      "text/latex": [
       "\\begin{tabular}{lll}\n",
       "\t 1 & 4 & 7\\\\\n",
       "\t 2 & 5 & 8\\\\\n",
       "\t 3 & 6 & 9\\\\\n",
       "\\end{tabular}\n"
      ],
      "text/markdown": [
       "\n",
       "| 1 | 4 | 7 |\n",
       "| 2 | 5 | 8 |\n",
       "| 3 | 6 | 9 |\n",
       "\n"
      ],
      "text/plain": [
       "     [,1] [,2] [,3]\n",
       "[1,] 1    4    7   \n",
       "[2,] 2    5    8   \n",
       "[3,] 3    6    9   "
      ]
     },
     "metadata": {},
     "output_type": "display_data"
    }
   ],
   "source": [
    "A=matrix(c(1,2,3,4,5,6,7,8,9),nrow=3)\n",
    "A[]"
   ]
  },
  {
   "cell_type": "code",
   "execution_count": 132,
   "metadata": {},
   "outputs": [
    {
     "name": "stdout",
     "output_type": "stream",
     "text": [
      "[1] 1 4\n"
     ]
    }
   ],
   "source": [
    "print(A[1,1:2])"
   ]
  },
  {
   "cell_type": "code",
   "execution_count": 133,
   "metadata": {},
   "outputs": [
    {
     "data": {
      "text/html": [
       "<table>\n",
       "<tbody>\n",
       "\t<tr><td>1</td><td>4</td><td>7</td></tr>\n",
       "\t<tr><td>2</td><td>5</td><td>8</td></tr>\n",
       "\t<tr><td>3</td><td>6</td><td>9</td></tr>\n",
       "</tbody>\n",
       "</table>\n"
      ],
      "text/latex": [
       "\\begin{tabular}{lll}\n",
       "\t 1 & 4 & 7\\\\\n",
       "\t 2 & 5 & 8\\\\\n",
       "\t 3 & 6 & 9\\\\\n",
       "\\end{tabular}\n"
      ],
      "text/markdown": [
       "\n",
       "| 1 | 4 | 7 |\n",
       "| 2 | 5 | 8 |\n",
       "| 3 | 6 | 9 |\n",
       "\n"
      ],
      "text/plain": [
       "     [,1] [,2] [,3]\n",
       "[1,] 1    4    7   \n",
       "[2,] 2    5    8   \n",
       "[3,] 3    6    9   "
      ]
     },
     "metadata": {},
     "output_type": "display_data"
    }
   ],
   "source": [
    "A=matrix(c(1,2,3,4,5,6,7,8,9),nrow=3,ncol=3)\n",
    "A"
   ]
  },
  {
   "cell_type": "code",
   "execution_count": 134,
   "metadata": {},
   "outputs": [
    {
     "data": {
      "text/html": [
       "<table>\n",
       "<tbody>\n",
       "\t<tr><td>1</td><td>2</td><td>3</td></tr>\n",
       "\t<tr><td>4</td><td>5</td><td>6</td></tr>\n",
       "\t<tr><td>7</td><td>8</td><td>9</td></tr>\n",
       "</tbody>\n",
       "</table>\n"
      ],
      "text/latex": [
       "\\begin{tabular}{lll}\n",
       "\t 1 & 2 & 3\\\\\n",
       "\t 4 & 5 & 6\\\\\n",
       "\t 7 & 8 & 9\\\\\n",
       "\\end{tabular}\n"
      ],
      "text/markdown": [
       "\n",
       "| 1 | 2 | 3 |\n",
       "| 4 | 5 | 6 |\n",
       "| 7 | 8 | 9 |\n",
       "\n"
      ],
      "text/plain": [
       "     [,1] [,2] [,3]\n",
       "[1,] 1    2    3   \n",
       "[2,] 4    5    6   \n",
       "[3,] 7    8    9   "
      ]
     },
     "metadata": {},
     "output_type": "display_data"
    }
   ],
   "source": [
    "A=matrix(c(1,2,3,4,5,6,7,8,9),nrow=3,ncol=3,byrow=TRUE)\n",
    "A"
   ]
  },
  {
   "cell_type": "code",
   "execution_count": 135,
   "metadata": {},
   "outputs": [
    {
     "data": {
      "text/html": [
       "<table>\n",
       "<tbody>\n",
       "\t<tr><td>3</td><td>3</td><td>3</td><td>3</td></tr>\n",
       "\t<tr><td>3</td><td>3</td><td>3</td><td>3</td></tr>\n",
       "\t<tr><td>3</td><td>3</td><td>3</td><td>3</td></tr>\n",
       "</tbody>\n",
       "</table>\n"
      ],
      "text/latex": [
       "\\begin{tabular}{llll}\n",
       "\t 3 & 3 & 3 & 3\\\\\n",
       "\t 3 & 3 & 3 & 3\\\\\n",
       "\t 3 & 3 & 3 & 3\\\\\n",
       "\\end{tabular}\n"
      ],
      "text/markdown": [
       "\n",
       "| 3 | 3 | 3 | 3 |\n",
       "| 3 | 3 | 3 | 3 |\n",
       "| 3 | 3 | 3 | 3 |\n",
       "\n"
      ],
      "text/plain": [
       "     [,1] [,2] [,3] [,4]\n",
       "[1,] 3    3    3    3   \n",
       "[2,] 3    3    3    3   \n",
       "[3,] 3    3    3    3   "
      ]
     },
     "metadata": {},
     "output_type": "display_data"
    }
   ],
   "source": [
    "matrix(3,3,4)"
   ]
  },
  {
   "cell_type": "code",
   "execution_count": 136,
   "metadata": {},
   "outputs": [
    {
     "data": {
      "text/html": [
       "<table>\n",
       "<tbody>\n",
       "\t<tr><td>4</td><td>0</td><td>0</td></tr>\n",
       "\t<tr><td>0</td><td>5</td><td>0</td></tr>\n",
       "\t<tr><td>0</td><td>0</td><td>6</td></tr>\n",
       "</tbody>\n",
       "</table>\n"
      ],
      "text/latex": [
       "\\begin{tabular}{lll}\n",
       "\t 4 & 0 & 0\\\\\n",
       "\t 0 & 5 & 0\\\\\n",
       "\t 0 & 0 & 6\\\\\n",
       "\\end{tabular}\n"
      ],
      "text/markdown": [
       "\n",
       "| 4 | 0 | 0 |\n",
       "| 0 | 5 | 0 |\n",
       "| 0 | 0 | 6 |\n",
       "\n"
      ],
      "text/plain": [
       "     [,1] [,2] [,3]\n",
       "[1,] 4    0    0   \n",
       "[2,] 0    5    0   \n",
       "[3,] 0    0    6   "
      ]
     },
     "metadata": {},
     "output_type": "display_data"
    }
   ],
   "source": [
    "diag(c(4,5,6),3,3)"
   ]
  },
  {
   "cell_type": "code",
   "execution_count": 137,
   "metadata": {},
   "outputs": [
    {
     "data": {
      "text/html": [
       "<ol class=list-inline>\n",
       "\t<li>3</li>\n",
       "\t<li>3</li>\n",
       "</ol>\n"
      ],
      "text/latex": [
       "\\begin{enumerate*}\n",
       "\\item 3\n",
       "\\item 3\n",
       "\\end{enumerate*}\n"
      ],
      "text/markdown": [
       "1. 3\n",
       "2. 3\n",
       "\n",
       "\n"
      ],
      "text/plain": [
       "[1] 3 3"
      ]
     },
     "metadata": {},
     "output_type": "display_data"
    }
   ],
   "source": [
    "dim(A)"
   ]
  },
  {
   "cell_type": "code",
   "execution_count": 138,
   "metadata": {},
   "outputs": [],
   "source": [
    "X=9\n",
    "a=(X**2+5*X+3)"
   ]
  },
  {
   "cell_type": "code",
   "execution_count": 139,
   "metadata": {},
   "outputs": [
    {
     "data": {
      "text/html": [
       "129"
      ],
      "text/latex": [
       "129"
      ],
      "text/markdown": [
       "129"
      ],
      "text/plain": [
       "[1] 129"
      ]
     },
     "metadata": {},
     "output_type": "display_data"
    }
   ],
   "source": [
    "a"
   ]
  },
  {
   "cell_type": "code",
   "execution_count": 140,
   "metadata": {},
   "outputs": [
    {
     "ename": "ERROR",
     "evalue": "Error in match.fun(FUN): argument \"FUN\" is missing, with no default\n",
     "output_type": "error",
     "traceback": [
      "Error in match.fun(FUN): argument \"FUN\" is missing, with no default\nTraceback:\n",
      "1. apply(C, sum)",
      "2. match.fun(FUN)"
     ]
    }
   ],
   "source": [
    "C=matrix(c(1,2,3,4,5,6,7,8,9),nrow=3,ncol=3,byrow=TRUE)\n",
    "apply(C,sum) "
   ]
  },
  {
   "cell_type": "code",
   "execution_count": 141,
   "metadata": {},
   "outputs": [
    {
     "name": "stdout",
     "output_type": "stream",
     "text": [
      "[1] \"Mar\" \"5\"  \n",
      "[1] \"May\" \"30\" \n",
      "[1] \"Jul\" \"91\" \n",
      "[1] \"Sep\" \"204\"\n",
      "[1] \"Nov\" \"385\"\n"
     ]
    }
   ],
   "source": [
    "\n",
    "n=2\n",
    "sum=0\n",
    "for(i in 1:11){\n",
    "    sum=sum+(i^2)\n",
    "    if (i %% 2 !=0)\n",
    "            next\n",
    "    print(c(month.abb[i+1],sum))\n",
    "}"
   ]
  },
  {
   "cell_type": "code",
   "execution_count": 142,
   "metadata": {},
   "outputs": [
    {
     "name": "stdout",
     "output_type": "stream",
     "text": [
      "[1] 1 3 5 7\n"
     ]
    }
   ],
   "source": [
    "print(seq(1,8,2))"
   ]
  },
  {
   "cell_type": "code",
   "execution_count": 143,
   "metadata": {},
   "outputs": [
    {
     "name": "stdout",
     "output_type": "stream",
     "text": [
      "[1] 5\n"
     ]
    }
   ],
   "source": [
    "n=8\n",
    "x = seq(1,n,2)\n",
    "for (i in x) {\n",
    "    if (i == 5){\n",
    "            print(i)\n",
    "        break\n",
    "}\n",
    "}"
   ]
  },
  {
   "cell_type": "code",
   "execution_count": 22,
   "metadata": {},
   "outputs": [],
   "source": [
    "library(reshape2)"
   ]
  },
  {
   "cell_type": "code",
   "execution_count": 4,
   "metadata": {},
   "outputs": [
    {
     "name": "stderr",
     "output_type": "stream",
     "text": [
      "\n",
      "Attaching package: ‘dplyr’\n",
      "\n",
      "The following objects are masked from ‘package:stats’:\n",
      "\n",
      "    filter, lag\n",
      "\n",
      "The following objects are masked from ‘package:base’:\n",
      "\n",
      "    intersect, setdiff, setequal, union\n",
      "\n"
     ]
    }
   ],
   "source": [
    "library(dplyr)"
   ]
  },
  {
   "cell_type": "code",
   "execution_count": 5,
   "metadata": {},
   "outputs": [],
   "source": [
    "NewDF1=data.frame(\"Name\"=c(\"Ujjwal\",\"Ujjwal\",\"Kar\",\"Bit\"),\n",
    "              \"Month\"=c(\"Jan\",\"Feb\",\"Mar\",\"Feb\"),\n",
    "              \"BS\"=c(140,548,456,785),\n",
    "              \"BP\"=c(90.5,77,89,45.00)\n",
    "              )"
   ]
  },
  {
   "cell_type": "code",
   "execution_count": 6,
   "metadata": {},
   "outputs": [],
   "source": [
    "NewDF2=data.frame(\"Name\"=c(\"Ujjwal\",\"Ujjwal\",\"Kar\",\"Bit\"),\n",
    "              \"Month\"=c(\"Jan\",\"Feb\",\"Mar\",\"Feb\"),\n",
    "              \"BS\"=c(140,548,456,785),\n",
    "              \"New\"=c(90.5,77,89,45.00)\n",
    "              )"
   ]
  },
  {
   "cell_type": "code",
   "execution_count": 16,
   "metadata": {},
   "outputs": [
    {
     "data": {
      "text/html": [
       "<table>\n",
       "<thead><tr><th scope=col>Name</th><th scope=col>Month</th><th scope=col>BS</th><th scope=col>BP</th></tr></thead>\n",
       "<tbody>\n",
       "\t<tr><td>Ujjwal</td><td>Jan   </td><td>140   </td><td>90.5  </td></tr>\n",
       "\t<tr><td>Ujjwal</td><td>Feb   </td><td>548   </td><td>77.0  </td></tr>\n",
       "\t<tr><td>Kar   </td><td>Mar   </td><td>456   </td><td>89.0  </td></tr>\n",
       "\t<tr><td>Bit   </td><td>Feb   </td><td>785   </td><td>45.0  </td></tr>\n",
       "</tbody>\n",
       "</table>\n"
      ],
      "text/latex": [
       "\\begin{tabular}{r|llll}\n",
       " Name & Month & BS & BP\\\\\n",
       "\\hline\n",
       "\t Ujjwal & Jan    & 140    & 90.5  \\\\\n",
       "\t Ujjwal & Feb    & 548    & 77.0  \\\\\n",
       "\t Kar    & Mar    & 456    & 89.0  \\\\\n",
       "\t Bit    & Feb    & 785    & 45.0  \\\\\n",
       "\\end{tabular}\n"
      ],
      "text/markdown": [
       "\n",
       "| Name | Month | BS | BP |\n",
       "|---|---|---|---|\n",
       "| Ujjwal | Jan    | 140    | 90.5   |\n",
       "| Ujjwal | Feb    | 548    | 77.0   |\n",
       "| Kar    | Mar    | 456    | 89.0   |\n",
       "| Bit    | Feb    | 785    | 45.0   |\n",
       "\n"
      ],
      "text/plain": [
       "  Name   Month BS  BP  \n",
       "1 Ujjwal Jan   140 90.5\n",
       "2 Ujjwal Feb   548 77.0\n",
       "3 Kar    Mar   456 89.0\n",
       "4 Bit    Feb   785 45.0"
      ]
     },
     "metadata": {},
     "output_type": "display_data"
    },
    {
     "data": {
      "text/html": [
       "<table>\n",
       "<thead><tr><th scope=col>Name</th><th scope=col>Month</th><th scope=col>BS</th><th scope=col>New</th></tr></thead>\n",
       "<tbody>\n",
       "\t<tr><td>Ujjwal</td><td>Jan   </td><td>140   </td><td>90.5  </td></tr>\n",
       "\t<tr><td>Ujjwal</td><td>Feb   </td><td>548   </td><td>77.0  </td></tr>\n",
       "\t<tr><td>Kar   </td><td>Mar   </td><td>456   </td><td>89.0  </td></tr>\n",
       "\t<tr><td>Bit   </td><td>Feb   </td><td>785   </td><td>45.0  </td></tr>\n",
       "</tbody>\n",
       "</table>\n"
      ],
      "text/latex": [
       "\\begin{tabular}{r|llll}\n",
       " Name & Month & BS & New\\\\\n",
       "\\hline\n",
       "\t Ujjwal & Jan    & 140    & 90.5  \\\\\n",
       "\t Ujjwal & Feb    & 548    & 77.0  \\\\\n",
       "\t Kar    & Mar    & 456    & 89.0  \\\\\n",
       "\t Bit    & Feb    & 785    & 45.0  \\\\\n",
       "\\end{tabular}\n"
      ],
      "text/markdown": [
       "\n",
       "| Name | Month | BS | New |\n",
       "|---|---|---|---|\n",
       "| Ujjwal | Jan    | 140    | 90.5   |\n",
       "| Ujjwal | Feb    | 548    | 77.0   |\n",
       "| Kar    | Mar    | 456    | 89.0   |\n",
       "| Bit    | Feb    | 785    | 45.0   |\n",
       "\n"
      ],
      "text/plain": [
       "  Name   Month BS  New \n",
       "1 Ujjwal Jan   140 90.5\n",
       "2 Ujjwal Feb   548 77.0\n",
       "3 Kar    Mar   456 89.0\n",
       "4 Bit    Feb   785 45.0"
      ]
     },
     "metadata": {},
     "output_type": "display_data"
    },
    {
     "data": {
      "text/html": [
       "<table>\n",
       "<thead><tr><th scope=col>Name</th><th scope=col>Month.x</th><th scope=col>BS.x</th><th scope=col>BP</th><th scope=col>Month.y</th><th scope=col>BS.y</th><th scope=col>New</th></tr></thead>\n",
       "<tbody>\n",
       "\t<tr><td>Ujjwal</td><td>Jan   </td><td>140   </td><td>90.5  </td><td>Jan   </td><td>140   </td><td>90.5  </td></tr>\n",
       "\t<tr><td>Ujjwal</td><td>Feb   </td><td>548   </td><td>77.0  </td><td>Jan   </td><td>140   </td><td>90.5  </td></tr>\n",
       "\t<tr><td>Ujjwal</td><td>Jan   </td><td>140   </td><td>90.5  </td><td>Feb   </td><td>548   </td><td>77.0  </td></tr>\n",
       "\t<tr><td>Ujjwal</td><td>Feb   </td><td>548   </td><td>77.0  </td><td>Feb   </td><td>548   </td><td>77.0  </td></tr>\n",
       "\t<tr><td>Kar   </td><td>Mar   </td><td>456   </td><td>89.0  </td><td>Mar   </td><td>456   </td><td>89.0  </td></tr>\n",
       "\t<tr><td>Bit   </td><td>Feb   </td><td>785   </td><td>45.0  </td><td>Feb   </td><td>785   </td><td>45.0  </td></tr>\n",
       "</tbody>\n",
       "</table>\n"
      ],
      "text/latex": [
       "\\begin{tabular}{r|lllllll}\n",
       " Name & Month.x & BS.x & BP & Month.y & BS.y & New\\\\\n",
       "\\hline\n",
       "\t Ujjwal & Jan    & 140    & 90.5   & Jan    & 140    & 90.5  \\\\\n",
       "\t Ujjwal & Feb    & 548    & 77.0   & Jan    & 140    & 90.5  \\\\\n",
       "\t Ujjwal & Jan    & 140    & 90.5   & Feb    & 548    & 77.0  \\\\\n",
       "\t Ujjwal & Feb    & 548    & 77.0   & Feb    & 548    & 77.0  \\\\\n",
       "\t Kar    & Mar    & 456    & 89.0   & Mar    & 456    & 89.0  \\\\\n",
       "\t Bit    & Feb    & 785    & 45.0   & Feb    & 785    & 45.0  \\\\\n",
       "\\end{tabular}\n"
      ],
      "text/markdown": [
       "\n",
       "| Name | Month.x | BS.x | BP | Month.y | BS.y | New |\n",
       "|---|---|---|---|---|---|---|\n",
       "| Ujjwal | Jan    | 140    | 90.5   | Jan    | 140    | 90.5   |\n",
       "| Ujjwal | Feb    | 548    | 77.0   | Jan    | 140    | 90.5   |\n",
       "| Ujjwal | Jan    | 140    | 90.5   | Feb    | 548    | 77.0   |\n",
       "| Ujjwal | Feb    | 548    | 77.0   | Feb    | 548    | 77.0   |\n",
       "| Kar    | Mar    | 456    | 89.0   | Mar    | 456    | 89.0   |\n",
       "| Bit    | Feb    | 785    | 45.0   | Feb    | 785    | 45.0   |\n",
       "\n"
      ],
      "text/plain": [
       "  Name   Month.x BS.x BP   Month.y BS.y New \n",
       "1 Ujjwal Jan     140  90.5 Jan     140  90.5\n",
       "2 Ujjwal Feb     548  77.0 Jan     140  90.5\n",
       "3 Ujjwal Jan     140  90.5 Feb     548  77.0\n",
       "4 Ujjwal Feb     548  77.0 Feb     548  77.0\n",
       "5 Kar    Mar     456  89.0 Mar     456  89.0\n",
       "6 Bit    Feb     785  45.0 Feb     785  45.0"
      ]
     },
     "metadata": {},
     "output_type": "display_data"
    }
   ],
   "source": [
    "NewDF1\n",
    "\n",
    "NewDF2\n",
    "\n",
    "right_join(NewDF1,NewDF2,by=\"Name\")"
   ]
  },
  {
   "cell_type": "code",
   "execution_count": 19,
   "metadata": {},
   "outputs": [],
   "source": [
    "NewDF3=data.frame(\"Name\"=c(\"Ujjwal\",\"Ujjwal\",\"Kar\",\"Bit\"),\n",
    "              \"New\"=c(90.5,77,89,45.00),\n",
    "              \"BS\"=c(140,548,456,785),\n",
    "              \"BP\"=c(90.5,77,89,45.00)\n",
    "              )"
   ]
  },
  {
   "cell_type": "code",
   "execution_count": 20,
   "metadata": {},
   "outputs": [
    {
     "data": {
      "text/html": [
       "<table>\n",
       "<thead><tr><th scope=col>Name</th><th scope=col>New</th><th scope=col>BS</th><th scope=col>BP</th></tr></thead>\n",
       "<tbody>\n",
       "\t<tr><td>Ujjwal</td><td>90.5  </td><td>140   </td><td>90.5  </td></tr>\n",
       "\t<tr><td>Ujjwal</td><td>77.0  </td><td>548   </td><td>77.0  </td></tr>\n",
       "\t<tr><td>Kar   </td><td>89.0  </td><td>456   </td><td>89.0  </td></tr>\n",
       "\t<tr><td>Bit   </td><td>45.0  </td><td>785   </td><td>45.0  </td></tr>\n",
       "</tbody>\n",
       "</table>\n"
      ],
      "text/latex": [
       "\\begin{tabular}{r|llll}\n",
       " Name & New & BS & BP\\\\\n",
       "\\hline\n",
       "\t Ujjwal & 90.5   & 140    & 90.5  \\\\\n",
       "\t Ujjwal & 77.0   & 548    & 77.0  \\\\\n",
       "\t Kar    & 89.0   & 456    & 89.0  \\\\\n",
       "\t Bit    & 45.0   & 785    & 45.0  \\\\\n",
       "\\end{tabular}\n"
      ],
      "text/markdown": [
       "\n",
       "| Name | New | BS | BP |\n",
       "|---|---|---|---|\n",
       "| Ujjwal | 90.5   | 140    | 90.5   |\n",
       "| Ujjwal | 77.0   | 548    | 77.0   |\n",
       "| Kar    | 89.0   | 456    | 89.0   |\n",
       "| Bit    | 45.0   | 785    | 45.0   |\n",
       "\n"
      ],
      "text/plain": [
       "  Name   New  BS  BP  \n",
       "1 Ujjwal 90.5 140 90.5\n",
       "2 Ujjwal 77.0 548 77.0\n",
       "3 Kar    89.0 456 89.0\n",
       "4 Bit    45.0 785 45.0"
      ]
     },
     "metadata": {},
     "output_type": "display_data"
    }
   ],
   "source": [
    "NewDF3"
   ]
  },
  {
   "cell_type": "code",
   "execution_count": 24,
   "metadata": {},
   "outputs": [
    {
     "ename": "ERROR",
     "evalue": "Error in melt(data, id.var, measure.var): object 'ships' not found\n",
     "output_type": "error",
     "traceback": [
      "Error in melt(data, id.var, measure.var): object 'ships' not found\nTraceback:\n",
      "1. recast(ships, type ~ variable, id.var = c(\"Name\"), fun.aggregate = sum)",
      "2. melt(data, id.var, measure.var)"
     ]
    }
   ],
   "source": [
    " recast(ships,type~variable,id.var=c(\"Name\"),fun.aggregate = sum) "
   ]
  },
  {
   "cell_type": "code",
   "execution_count": null,
   "metadata": {},
   "outputs": [],
   "source": []
  },
  {
   "cell_type": "code",
   "execution_count": null,
   "metadata": {},
   "outputs": [],
   "source": []
  },
  {
   "cell_type": "code",
   "execution_count": null,
   "metadata": {},
   "outputs": [],
   "source": []
  }
 ],
 "metadata": {
  "kernelspec": {
   "display_name": "R",
   "language": "R",
   "name": "ir"
  },
  "language_info": {
   "codemirror_mode": "r",
   "file_extension": ".r",
   "mimetype": "text/x-r-source",
   "name": "R",
   "pygments_lexer": "r",
   "version": "3.6.1"
  }
 },
 "nbformat": 4,
 "nbformat_minor": 4
}
