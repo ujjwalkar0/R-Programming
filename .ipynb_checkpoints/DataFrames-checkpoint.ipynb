{
 "cells": [
  {
   "cell_type": "markdown",
   "metadata": {},
   "source": [
    "# DataFrames\n",
    " \n",
    " #### Defination :- Data frames are generic data objects of R, used to store tabular data"
   ]
  },
  {
   "cell_type": "code",
   "execution_count": 22,
   "metadata": {},
   "outputs": [],
   "source": [
    "v1=c(1,2,3,5,6)"
   ]
  },
  {
   "cell_type": "code",
   "execution_count": 23,
   "metadata": {},
   "outputs": [],
   "source": [
    "v2=c(\"python\",\"c\",\"react\",\"native\",\"html\")"
   ]
  },
  {
   "cell_type": "code",
   "execution_count": 24,
   "metadata": {},
   "outputs": [],
   "source": [
    "v3=c(\"python\",\"c\",\"react\",\"native\",\"html\")"
   ]
  },
  {
   "cell_type": "code",
   "execution_count": 25,
   "metadata": {},
   "outputs": [],
   "source": [
    "v4=c(\"best\",\"good\",\"average\",\"vbbhjf\",\"fsgfds\")"
   ]
  },
  {
   "cell_type": "code",
   "execution_count": 26,
   "metadata": {},
   "outputs": [],
   "source": [
    "v5=c(\"best\",\"good\",\"average\",\"vbbhjf\",\"fsgfds\")"
   ]
  },
  {
   "cell_type": "code",
   "execution_count": 36,
   "metadata": {},
   "outputs": [],
   "source": [
    "df=data.frame(v1,v2,v3,v4,v5)"
   ]
  },
  {
   "cell_type": "code",
   "execution_count": 37,
   "metadata": {},
   "outputs": [
    {
     "data": {
      "text/html": [
       "<table>\n",
       "<thead><tr><th scope=col>v1</th><th scope=col>v2</th><th scope=col>v3</th><th scope=col>v4</th><th scope=col>v5</th></tr></thead>\n",
       "<tbody>\n",
       "\t<tr><td>1      </td><td>python </td><td>python </td><td>best   </td><td>best   </td></tr>\n",
       "\t<tr><td>2      </td><td>c      </td><td>c      </td><td>good   </td><td>good   </td></tr>\n",
       "\t<tr><td>3      </td><td>react  </td><td>react  </td><td>average</td><td>average</td></tr>\n",
       "\t<tr><td>5      </td><td>native </td><td>native </td><td>vbbhjf </td><td>vbbhjf </td></tr>\n",
       "\t<tr><td>6      </td><td>html   </td><td>html   </td><td>fsgfds </td><td>fsgfds </td></tr>\n",
       "</tbody>\n",
       "</table>\n"
      ],
      "text/latex": [
       "\\begin{tabular}{r|lllll}\n",
       " v1 & v2 & v3 & v4 & v5\\\\\n",
       "\\hline\n",
       "\t 1       & python  & python  & best    & best   \\\\\n",
       "\t 2       & c       & c       & good    & good   \\\\\n",
       "\t 3       & react   & react   & average & average\\\\\n",
       "\t 5       & native  & native  & vbbhjf  & vbbhjf \\\\\n",
       "\t 6       & html    & html    & fsgfds  & fsgfds \\\\\n",
       "\\end{tabular}\n"
      ],
      "text/markdown": [
       "\n",
       "| v1 | v2 | v3 | v4 | v5 |\n",
       "|---|---|---|---|---|\n",
       "| 1       | python  | python  | best    | best    |\n",
       "| 2       | c       | c       | good    | good    |\n",
       "| 3       | react   | react   | average | average |\n",
       "| 5       | native  | native  | vbbhjf  | vbbhjf  |\n",
       "| 6       | html    | html    | fsgfds  | fsgfds  |\n",
       "\n"
      ],
      "text/plain": [
       "  v1 v2     v3     v4      v5     \n",
       "1 1  python python best    best   \n",
       "2 2  c      c      good    good   \n",
       "3 3  react  react  average average\n",
       "4 5  native native vbbhjf  vbbhjf \n",
       "5 6  html   html   fsgfds  fsgfds "
      ]
     },
     "metadata": {},
     "output_type": "display_data"
    }
   ],
   "source": [
    "df"
   ]
  },
  {
   "cell_type": "code",
   "execution_count": 38,
   "metadata": {},
   "outputs": [],
   "source": [
    "new_df=data.frame(v1,v2,v3,v3)"
   ]
  },
  {
   "cell_type": "code",
   "execution_count": 39,
   "metadata": {},
   "outputs": [
    {
     "data": {
      "text/html": [
       "<table>\n",
       "<thead><tr><th scope=col>v1</th><th scope=col>v2</th><th scope=col>v3</th><th scope=col>v3.1</th></tr></thead>\n",
       "<tbody>\n",
       "\t<tr><td>1     </td><td>python</td><td>python</td><td>python</td></tr>\n",
       "\t<tr><td>2     </td><td>c     </td><td>c     </td><td>c     </td></tr>\n",
       "\t<tr><td>3     </td><td>react </td><td>react </td><td>react </td></tr>\n",
       "\t<tr><td>5     </td><td>native</td><td>native</td><td>native</td></tr>\n",
       "\t<tr><td>6     </td><td>html  </td><td>html  </td><td>html  </td></tr>\n",
       "</tbody>\n",
       "</table>\n"
      ],
      "text/latex": [
       "\\begin{tabular}{r|llll}\n",
       " v1 & v2 & v3 & v3.1\\\\\n",
       "\\hline\n",
       "\t 1      & python & python & python\\\\\n",
       "\t 2      & c      & c      & c     \\\\\n",
       "\t 3      & react  & react  & react \\\\\n",
       "\t 5      & native & native & native\\\\\n",
       "\t 6      & html   & html   & html  \\\\\n",
       "\\end{tabular}\n"
      ],
      "text/markdown": [
       "\n",
       "| v1 | v2 | v3 | v3.1 |\n",
       "|---|---|---|---|\n",
       "| 1      | python | python | python |\n",
       "| 2      | c      | c      | c      |\n",
       "| 3      | react  | react  | react  |\n",
       "| 5      | native | native | native |\n",
       "| 6      | html   | html   | html   |\n",
       "\n"
      ],
      "text/plain": [
       "  v1 v2     v3     v3.1  \n",
       "1 1  python python python\n",
       "2 2  c      c      c     \n",
       "3 3  react  react  react \n",
       "4 5  native native native\n",
       "5 6  html   html   html  "
      ]
     },
     "metadata": {},
     "output_type": "display_data"
    }
   ],
   "source": [
    "new_df"
   ]
  },
  {
   "cell_type": "markdown",
   "metadata": {},
   "source": [
    "# Create a dataframe using data from a file"
   ]
  },
  {
   "cell_type": "code",
   "execution_count": null,
   "metadata": {},
   "outputs": [],
   "source": []
  },
  {
   "cell_type": "code",
   "execution_count": null,
   "metadata": {},
   "outputs": [],
   "source": []
  },
  {
   "cell_type": "markdown",
   "metadata": {},
   "source": [
    "# Accessing rows and Columns"
   ]
  },
  {
   "cell_type": "code",
   "execution_count": 40,
   "metadata": {},
   "outputs": [
    {
     "name": "stdout",
     "output_type": "stream",
     "text": [
      "  v1     v2     v3      v4      v5\n",
      "1  1 python python    best    best\n",
      "2  2      c      c    good    good\n",
      "3  3  react  react average average\n"
     ]
    }
   ],
   "source": [
    "print(df[1:3,])  "
   ]
  },
  {
   "cell_type": "code",
   "execution_count": 41,
   "metadata": {},
   "outputs": [
    {
     "name": "stdout",
     "output_type": "stream",
     "text": [
      "  v1     v2     v3\n",
      "1  1 python python\n",
      "2  2      c      c\n",
      "3  3  react  react\n",
      "4  5 native native\n",
      "5  6   html   html\n"
     ]
    }
   ],
   "source": [
    "print(df[,1:3])  "
   ]
  },
  {
   "cell_type": "code",
   "execution_count": 44,
   "metadata": {},
   "outputs": [
    {
     "name": "stdout",
     "output_type": "stream",
     "text": [
      "[1] python\n",
      "Levels: c html native python react\n"
     ]
    }
   ],
   "source": [
    "print(df[1,2])"
   ]
  },
  {
   "cell_type": "code",
   "execution_count": 45,
   "metadata": {},
   "outputs": [
    {
     "name": "stdout",
     "output_type": "stream",
     "text": [
      "[1] python\n",
      "Levels: c html native python react\n"
     ]
    }
   ],
   "source": [
    "print(df[1:1,2:2])"
   ]
  },
  {
   "cell_type": "markdown",
   "metadata": {},
   "source": [
    "\n",
    "# Subset"
   ]
  },
  {
   "cell_type": "code",
   "execution_count": 48,
   "metadata": {},
   "outputs": [],
   "source": [
    "pd2=data.frame(\"Name\"=c(\"Ujjwal\",\"Ujjwal\",\"Kar\",\"Bit\"),\n",
    "              \"Month\"=c(\"Jan\",\"Feb\",\"Mar\",\"Feb\"),\n",
    "              \"BS\"=c(140,548,456,785),\n",
    "              \"BP\"=c(90.5,77,89,45.00)\n",
    "              )"
   ]
  },
  {
   "cell_type": "code",
   "execution_count": 52,
   "metadata": {},
   "outputs": [
    {
     "data": {
      "text/html": [
       "<table>\n",
       "<thead><tr><th scope=col>Name</th><th scope=col>Month</th><th scope=col>BS</th><th scope=col>BP</th></tr></thead>\n",
       "<tbody>\n",
       "\t<tr><td>Ujjwal</td><td>Jan   </td><td>140   </td><td>90.5  </td></tr>\n",
       "\t<tr><td>Ujjwal</td><td>Feb   </td><td>548   </td><td>77.0  </td></tr>\n",
       "\t<tr><td>Kar   </td><td>Mar   </td><td>456   </td><td>89.0  </td></tr>\n",
       "\t<tr><td>Bit   </td><td>Feb   </td><td>785   </td><td>45.0  </td></tr>\n",
       "</tbody>\n",
       "</table>\n"
      ],
      "text/latex": [
       "\\begin{tabular}{r|llll}\n",
       " Name & Month & BS & BP\\\\\n",
       "\\hline\n",
       "\t Ujjwal & Jan    & 140    & 90.5  \\\\\n",
       "\t Ujjwal & Feb    & 548    & 77.0  \\\\\n",
       "\t Kar    & Mar    & 456    & 89.0  \\\\\n",
       "\t Bit    & Feb    & 785    & 45.0  \\\\\n",
       "\\end{tabular}\n"
      ],
      "text/markdown": [
       "\n",
       "| Name | Month | BS | BP |\n",
       "|---|---|---|---|\n",
       "| Ujjwal | Jan    | 140    | 90.5   |\n",
       "| Ujjwal | Feb    | 548    | 77.0   |\n",
       "| Kar    | Mar    | 456    | 89.0   |\n",
       "| Bit    | Feb    | 785    | 45.0   |\n",
       "\n"
      ],
      "text/plain": [
       "  Name   Month BS  BP  \n",
       "1 Ujjwal Jan   140 90.5\n",
       "2 Ujjwal Feb   548 77.0\n",
       "3 Kar    Mar   456 89.0\n",
       "4 Bit    Feb   785 45.0"
      ]
     },
     "metadata": {},
     "output_type": "display_data"
    }
   ],
   "source": [
    "subset(pd2,Name=\"Ujjwal\")"
   ]
  },
  {
   "cell_type": "code",
   "execution_count": 51,
   "metadata": {},
   "outputs": [
    {
     "data": {
      "text/html": [
       "<table>\n",
       "<thead><tr><th scope=col>Name</th><th scope=col>Month</th><th scope=col>BS</th><th scope=col>BP</th></tr></thead>\n",
       "<tbody>\n",
       "\t<tr><td>Ujjwal</td><td>Jan   </td><td>140   </td><td>90.5  </td></tr>\n",
       "\t<tr><td>Ujjwal</td><td>Feb   </td><td>548   </td><td>77.0  </td></tr>\n",
       "\t<tr><td>Kar   </td><td>Mar   </td><td>456   </td><td>89.0  </td></tr>\n",
       "\t<tr><td>Bit   </td><td>Feb   </td><td>785   </td><td>45.0  </td></tr>\n",
       "</tbody>\n",
       "</table>\n"
      ],
      "text/latex": [
       "\\begin{tabular}{r|llll}\n",
       " Name & Month & BS & BP\\\\\n",
       "\\hline\n",
       "\t Ujjwal & Jan    & 140    & 90.5  \\\\\n",
       "\t Ujjwal & Feb    & 548    & 77.0  \\\\\n",
       "\t Kar    & Mar    & 456    & 89.0  \\\\\n",
       "\t Bit    & Feb    & 785    & 45.0  \\\\\n",
       "\\end{tabular}\n"
      ],
      "text/markdown": [
       "\n",
       "| Name | Month | BS | BP |\n",
       "|---|---|---|---|\n",
       "| Ujjwal | Jan    | 140    | 90.5   |\n",
       "| Ujjwal | Feb    | 548    | 77.0   |\n",
       "| Kar    | Mar    | 456    | 89.0   |\n",
       "| Bit    | Feb    | 785    | 45.0   |\n",
       "\n"
      ],
      "text/plain": [
       "  Name   Month BS  BP  \n",
       "1 Ujjwal Jan   140 90.5\n",
       "2 Ujjwal Feb   548 77.0\n",
       "3 Kar    Mar   456 89.0\n",
       "4 Bit    Feb   785 45.0"
      ]
     },
     "metadata": {},
     "output_type": "display_data"
    }
   ],
   "source": [
    "pd3"
   ]
  },
  {
   "cell_type": "code",
   "execution_count": null,
   "metadata": {},
   "outputs": [],
   "source": []
  }
 ],
 "metadata": {
  "kernelspec": {
   "display_name": "R",
   "language": "R",
   "name": "ir"
  },
  "language_info": {
   "codemirror_mode": "r",
   "file_extension": ".r",
   "mimetype": "text/x-r-source",
   "name": "R",
   "pygments_lexer": "r",
   "version": "3.6.1"
  }
 },
 "nbformat": 4,
 "nbformat_minor": 4
}
